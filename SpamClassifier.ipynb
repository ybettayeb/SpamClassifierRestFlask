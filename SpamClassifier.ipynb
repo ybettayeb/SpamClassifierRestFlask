{
 "cells": [
  {
   "source": [
    "Hello and welcome into my chaotic workflow into 0.99 accuracy, hope you enjoy the stay"
   ],
   "cell_type": "markdown",
   "metadata": {}
  },
  {
   "cell_type": "code",
   "execution_count": 1,
   "metadata": {
    "scrolled": true
   },
   "outputs": [],
   "source": [
    "import numpy as np\n",
    "import pandas as pd\n",
    "import seaborn as sns # the minimum\n",
    "import csv"
   ]
  },
  {
   "cell_type": "code",
   "execution_count": 2,
   "metadata": {},
   "outputs": [
    {
     "output_type": "error",
     "ename": "ModuleNotFoundError",
     "evalue": "No module named 'gensim.sklearn_api'",
     "traceback": [
      "\u001b[0;31m---------------------------------------------------------------------------\u001b[0m",
      "\u001b[0;31mModuleNotFoundError\u001b[0m                       Traceback (most recent call last)",
      "\u001b[0;32m<ipython-input-2-b07b331ff4d3>\u001b[0m in \u001b[0;36m<module>\u001b[0;34m\u001b[0m\n\u001b[1;32m      1\u001b[0m \u001b[0;31m# import lux\u001b[0m\u001b[0;34m\u001b[0m\u001b[0;34m\u001b[0m\u001b[0;34m\u001b[0m\u001b[0m\n\u001b[0;32m----> 2\u001b[0;31m \u001b[0;32mimport\u001b[0m \u001b[0mtexthero\u001b[0m \u001b[0;31m# we'll play with those later\u001b[0m\u001b[0;34m\u001b[0m\u001b[0;34m\u001b[0m\u001b[0m\n\u001b[0m",
      "\u001b[0;32m~/.local/lib/python3.8/site-packages/texthero/__init__.py\u001b[0m in \u001b[0;36m<module>\u001b[0;34m\u001b[0m\n\u001b[1;32m      4\u001b[0m \u001b[0;34m\u001b[0m\u001b[0m\n\u001b[1;32m      5\u001b[0m \"\"\"\n\u001b[0;32m----> 6\u001b[0;31m \u001b[0;32mfrom\u001b[0m \u001b[0;34m.\u001b[0m \u001b[0;32mimport\u001b[0m \u001b[0mpreprocessing\u001b[0m\u001b[0;34m\u001b[0m\u001b[0;34m\u001b[0m\u001b[0m\n\u001b[0m\u001b[1;32m      7\u001b[0m \u001b[0;32mfrom\u001b[0m \u001b[0;34m.\u001b[0m\u001b[0mpreprocessing\u001b[0m \u001b[0;32mimport\u001b[0m \u001b[0;34m*\u001b[0m\u001b[0;34m\u001b[0m\u001b[0;34m\u001b[0m\u001b[0m\n\u001b[1;32m      8\u001b[0m \u001b[0;34m\u001b[0m\u001b[0m\n",
      "\u001b[0;32m~/.local/lib/python3.8/site-packages/texthero/preprocessing.py\u001b[0m in \u001b[0;36m<module>\u001b[0;34m\u001b[0m\n\u001b[1;32m     22\u001b[0m \u001b[0mwarnings\u001b[0m\u001b[0;34m.\u001b[0m\u001b[0mfilterwarnings\u001b[0m\u001b[0;34m(\u001b[0m\u001b[0maction\u001b[0m\u001b[0;34m=\u001b[0m\u001b[0;34m\"ignore\"\u001b[0m\u001b[0;34m,\u001b[0m \u001b[0mcategory\u001b[0m\u001b[0;34m=\u001b[0m\u001b[0mUserWarning\u001b[0m\u001b[0;34m,\u001b[0m \u001b[0mmodule\u001b[0m\u001b[0;34m=\u001b[0m\u001b[0;34m\"gensim\"\u001b[0m\u001b[0;34m)\u001b[0m\u001b[0;34m\u001b[0m\u001b[0;34m\u001b[0m\u001b[0m\n\u001b[1;32m     23\u001b[0m \u001b[0;34m\u001b[0m\u001b[0m\n\u001b[0;32m---> 24\u001b[0;31m \u001b[0;32mfrom\u001b[0m \u001b[0mgensim\u001b[0m\u001b[0;34m.\u001b[0m\u001b[0msklearn_api\u001b[0m\u001b[0;34m.\u001b[0m\u001b[0mphrases\u001b[0m \u001b[0;32mimport\u001b[0m \u001b[0mPhrasesTransformer\u001b[0m\u001b[0;34m\u001b[0m\u001b[0;34m\u001b[0m\u001b[0m\n\u001b[0m\u001b[1;32m     25\u001b[0m \u001b[0;34m\u001b[0m\u001b[0m\n\u001b[1;32m     26\u001b[0m \u001b[0;34m\u001b[0m\u001b[0m\n",
      "\u001b[0;31mModuleNotFoundError\u001b[0m: No module named 'gensim.sklearn_api'"
     ]
    }
   ],
   "source": [
    "# import lux\n",
    "import texthero # we'll play with those later"
   ]
  },
  {
   "cell_type": "code",
   "execution_count": null,
   "metadata": {},
   "outputs": [],
   "source": [
    "pathDataSet = \"spam.csv\" # absolute paths are evil\n",
    "df = pd.read_csv(pathDataSet) \n",
    "#hum parser is confused by the file, i'll try replacing commas with semicolons"
   ]
  },
  {
   "cell_type": "markdown",
   "metadata": {},
   "source": [
    " we'll need to replace only the first occurence of a comma"
   ]
  },
  {
   "cell_type": "code",
   "execution_count": null,
   "metadata": {},
   "outputs": [],
   "source": [
    "with open(\"spam.csv\", 'r') as f:\n",
    "    with open(\"spam2.csv\", 'w') as t:\n",
    "        for line in f:\n",
    "            new_line = line.replace(\",\",\";\",1) #Python sure is handy \n",
    "            t.write(new_line) "
   ]
  },
  {
   "cell_type": "code",
   "execution_count": 3,
   "metadata": {},
   "outputs": [],
   "source": [
    "pathDataSet2 = \"./Data/spam.csv\"\n",
    "df = pd.read_csv(pathDataSet2,delimiter=\",\",error_bad_lines=False,header=None,\n",
    "                 names=[\"CLASS\", \"CONTENT\"]) \n",
    "# Still not good, we have some lines with encoding errors, we may have to forfeit them..."
   ]
  },
  {
   "cell_type": "markdown",
   "metadata": {},
   "source": [
    "Me looking at the csv file\n",
    "\n",
    "\n",
    "![me_RightNow](https://pbs.twimg.com/media/ExCcte2WQAYlX7e?format=jpg)\n"
   ]
  },
  {
   "cell_type": "markdown",
   "metadata": {},
   "source": [
    "file is 9654 lines long"
   ]
  },
  {
   "cell_type": "code",
   "execution_count": 4,
   "metadata": {},
   "outputs": [
    {
     "output_type": "stream",
     "name": "stdout",
     "text": [
      "1.0\n"
     ]
    }
   ],
   "source": [
    "originalLength = 9654\n",
    "print(df.shape[0]/originalLength) # how much of the original file have we retained"
   ]
  },
  {
   "cell_type": "markdown",
   "metadata": {},
   "source": [
    "well, i guess that's acceptable, i'll think about a solution for those lines later on if i can\n",
    "\n",
    "##i just realized that forcing the column names would fix all my issues, i'll let the above cells for the sake of my thought process but in normal conditions i would've shamefully deleted them...\n",
    "well let's get to actual work"
   ]
  },
  {
   "cell_type": "code",
   "execution_count": 4,
   "metadata": {
    "scrolled": false
   },
   "outputs": [],
   "source": [
    "df[\"CONTENT\"] = df[\"CONTENT\"].astype(str)\n",
    "df = df.replace({\"CLASS\": {\"spam\":1,\"not_spam\":0}}) # working with binary looks better"
   ]
  },
  {
   "cell_type": "code",
   "execution_count": 5,
   "metadata": {},
   "outputs": [
    {
     "output_type": "execute_result",
     "data": {
      "text/plain": [
       "      CLASS                                            CONTENT\n",
       "0         1  FREE for 1st week! No1 Nokia tone 4 ur mobile ...\n",
       "1         0  Purity of friendship between two is not about ...\n",
       "2         1  PRIVATE! Your 2003 Account Statement for shows...\n",
       "3         1                             Goal! Arsenal 4 (Henry\n",
       "4         0          Also track down any lighters you can find\n",
       "...     ...                                                ...\n",
       "9649      0  Yar... I tot u knew dis would happen long ago ...\n",
       "9650      0  That's ok. I popped in to ask bout something a...\n",
       "9651      1              08714712388 between 10am-7pm Cost 10p\n",
       "9652      1  Dear Matthew please call 09063440451 from a la...\n",
       "9653      1  Urgent! Please call 0906346330. Your ABTA comp...\n",
       "\n",
       "[9654 rows x 2 columns]"
      ],
      "text/html": "<div>\n<style scoped>\n    .dataframe tbody tr th:only-of-type {\n        vertical-align: middle;\n    }\n\n    .dataframe tbody tr th {\n        vertical-align: top;\n    }\n\n    .dataframe thead th {\n        text-align: right;\n    }\n</style>\n<table border=\"1\" class=\"dataframe\">\n  <thead>\n    <tr style=\"text-align: right;\">\n      <th></th>\n      <th>CLASS</th>\n      <th>CONTENT</th>\n    </tr>\n  </thead>\n  <tbody>\n    <tr>\n      <th>0</th>\n      <td>1</td>\n      <td>FREE for 1st week! No1 Nokia tone 4 ur mobile ...</td>\n    </tr>\n    <tr>\n      <th>1</th>\n      <td>0</td>\n      <td>Purity of friendship between two is not about ...</td>\n    </tr>\n    <tr>\n      <th>2</th>\n      <td>1</td>\n      <td>PRIVATE! Your 2003 Account Statement for shows...</td>\n    </tr>\n    <tr>\n      <th>3</th>\n      <td>1</td>\n      <td>Goal! Arsenal 4 (Henry</td>\n    </tr>\n    <tr>\n      <th>4</th>\n      <td>0</td>\n      <td>Also track down any lighters you can find</td>\n    </tr>\n    <tr>\n      <th>...</th>\n      <td>...</td>\n      <td>...</td>\n    </tr>\n    <tr>\n      <th>9649</th>\n      <td>0</td>\n      <td>Yar... I tot u knew dis would happen long ago ...</td>\n    </tr>\n    <tr>\n      <th>9650</th>\n      <td>0</td>\n      <td>That's ok. I popped in to ask bout something a...</td>\n    </tr>\n    <tr>\n      <th>9651</th>\n      <td>1</td>\n      <td>08714712388 between 10am-7pm Cost 10p</td>\n    </tr>\n    <tr>\n      <th>9652</th>\n      <td>1</td>\n      <td>Dear Matthew please call 09063440451 from a la...</td>\n    </tr>\n    <tr>\n      <th>9653</th>\n      <td>1</td>\n      <td>Urgent! Please call 0906346330. Your ABTA comp...</td>\n    </tr>\n  </tbody>\n</table>\n<p>9654 rows × 2 columns</p>\n</div>"
     },
     "metadata": {},
     "execution_count": 5
    }
   ],
   "source": [
    "df"
   ]
  },
  {
   "cell_type": "code",
   "execution_count": 5,
   "metadata": {},
   "outputs": [
    {
     "output_type": "execute_result",
     "data": {
      "text/plain": [
       "      CLASS                                            CONTENT\n",
       "8860      1  Want explicit SEX in 30 secs? Ring 02073162414...\n",
       "6471      1      SMS SERVICES. for your inclusive text credits\n",
       "3852      0  Okies... I'll go yan jiu too... We can skip ar...\n",
       "8025      1                                      44 7732584351\n",
       "4354      1  Please call our customer service representativ...\n",
       "...     ...                                                ...\n",
       "2401      0                                  idc get over here\n",
       "9013      1  Mobile Club: Choose any of the top quality ite...\n",
       "6730      0                       Nice.nice.how is it working?\n",
       "4609      0  I'm very happy for you babe ! Woo hoo party on...\n",
       "9241      0                   Will you come online today night\n",
       "\n",
       "[1931 rows x 2 columns]"
      ],
      "text/html": "<div>\n<style scoped>\n    .dataframe tbody tr th:only-of-type {\n        vertical-align: middle;\n    }\n\n    .dataframe tbody tr th {\n        vertical-align: top;\n    }\n\n    .dataframe thead th {\n        text-align: right;\n    }\n</style>\n<table border=\"1\" class=\"dataframe\">\n  <thead>\n    <tr style=\"text-align: right;\">\n      <th></th>\n      <th>CLASS</th>\n      <th>CONTENT</th>\n    </tr>\n  </thead>\n  <tbody>\n    <tr>\n      <th>8860</th>\n      <td>1</td>\n      <td>Want explicit SEX in 30 secs? Ring 02073162414...</td>\n    </tr>\n    <tr>\n      <th>6471</th>\n      <td>1</td>\n      <td>SMS SERVICES. for your inclusive text credits</td>\n    </tr>\n    <tr>\n      <th>3852</th>\n      <td>0</td>\n      <td>Okies... I'll go yan jiu too... We can skip ar...</td>\n    </tr>\n    <tr>\n      <th>8025</th>\n      <td>1</td>\n      <td>44 7732584351</td>\n    </tr>\n    <tr>\n      <th>4354</th>\n      <td>1</td>\n      <td>Please call our customer service representativ...</td>\n    </tr>\n    <tr>\n      <th>...</th>\n      <td>...</td>\n      <td>...</td>\n    </tr>\n    <tr>\n      <th>2401</th>\n      <td>0</td>\n      <td>idc get over here</td>\n    </tr>\n    <tr>\n      <th>9013</th>\n      <td>1</td>\n      <td>Mobile Club: Choose any of the top quality ite...</td>\n    </tr>\n    <tr>\n      <th>6730</th>\n      <td>0</td>\n      <td>Nice.nice.how is it working?</td>\n    </tr>\n    <tr>\n      <th>4609</th>\n      <td>0</td>\n      <td>I'm very happy for you babe ! Woo hoo party on...</td>\n    </tr>\n    <tr>\n      <th>9241</th>\n      <td>0</td>\n      <td>Will you come online today night</td>\n    </tr>\n  </tbody>\n</table>\n<p>1931 rows × 2 columns</p>\n</div>"
     },
     "metadata": {},
     "execution_count": 5
    }
   ],
   "source": [
    "from sklearn.model_selection import train_test_split\n",
    "\n",
    "df_train, df_test = train_test_split(df, test_size=0.2, random_state=57) \n",
    "df_test"
   ]
  },
  {
   "cell_type": "markdown",
   "metadata": {},
   "source": [
    "let's first make a bag of words to see how far it will take us"
   ]
  },
  {
   "cell_type": "code",
   "execution_count": 21,
   "metadata": {},
   "outputs": [],
   "source": [
    "y_train = df_train['CLASS'].values\n",
    "y_test = df_test['CLASS'].values"
   ]
  },
  {
   "cell_type": "code",
   "execution_count": 22,
   "metadata": {},
   "outputs": [],
   "source": [
    "from sklearn.feature_extraction.text import TfidfVectorizer\n",
    "from sklearn.feature_extraction.text import CountVectorizer\n",
    "from sklearn.linear_model import LogisticRegression\n",
    "\n",
    "vectorizer = CountVectorizer()\n",
    "X_train = vectorizer.fit_transform(list(df_train['CONTENT'].values)).todense() \n",
    "classifier = LogisticRegression().fit(X_train,y_train)"
   ]
  },
  {
   "cell_type": "code",
   "execution_count": 23,
   "metadata": {},
   "outputs": [],
   "source": [
    "X_test = vectorizer.transform(list(df_test['CONTENT'].values)).todense()\n",
    "y_pred = classifier.predict(X_test)"
   ]
  },
  {
   "cell_type": "code",
   "execution_count": 24,
   "metadata": {},
   "outputs": [
    {
     "output_type": "stream",
     "name": "stdout",
     "text": [
      "Accuracy : 0.9849818746763335\n"
     ]
    }
   ],
   "source": [
    "print('Accuracy : %s' % np.mean(y_pred == y_test))"
   ]
  },
  {
   "cell_type": "markdown",
   "metadata": {},
   "source": [
    "this kind of accuracy is suspicious, i think i might have forgotten something important let's look at the confusion matrix"
   ]
  },
  {
   "cell_type": "code",
   "execution_count": 11,
   "metadata": {},
   "outputs": [
    {
     "output_type": "stream",
     "name": "stdout",
     "text": [
      "[[959  12]\n [ 17 943]]\n"
     ]
    }
   ],
   "source": [
    "from sklearn.metrics import confusion_matrix\n",
    "cm = confusion_matrix(y_test, y_pred)\n",
    "print(cm)"
   ]
  },
  {
   "cell_type": "markdown",
   "metadata": {},
   "source": [
    "let's look at our false positives and false negatives"
   ]
  },
  {
   "cell_type": "code",
   "execution_count": 10,
   "metadata": {},
   "outputs": [
    {
     "output_type": "execute_result",
     "data": {
      "text/plain": [
       "[\"Oh my god! I've found your number again! I'm so glad\",\n",
       " \"Oh my god! I've found your number again! I'm so glad\",\n",
       " '2/2 146tf150p',\n",
       " \"Oh my god! I've found your number again! I'm so glad\",\n",
       " \"If you don't\",\n",
       " 'Hi',\n",
       " 'Free msg. Sorry',\n",
       " 'Hi',\n",
       " 'Free msg. Sorry',\n",
       " \"If you don't\",\n",
       " 'Twinks',\n",
       " 'Free msg. Sorry',\n",
       " 'Twinks',\n",
       " 'Hi',\n",
       " 'Hi',\n",
       " '2/2 146tf150p',\n",
       " '2/2 146tf150p']"
      ]
     },
     "metadata": {},
     "execution_count": 10
    }
   ],
   "source": [
    "false_negatives = [list(df_test['CONTENT'])[i] for i in range(y_pred.shape[0]) if y_test[i] == 1 and y_pred[i] ==0]\n",
    "false_positives = [list(df_test['CONTENT'])[i] for i in range(y_pred.shape[0]) if y_test[i] == 0 and y_pred[i] ==1]\n",
    "false_negatives"
   ]
  },
  {
   "source": [
    "From what i see, i have either weird messages that probably need manual flagging, or messages containing weird codes, i could probably add a number of numbers feature and a bad topic one \n"
   ],
   "cell_type": "markdown",
   "metadata": {}
  },
  {
   "cell_type": "code",
   "execution_count": 18,
   "metadata": {},
   "outputs": [],
   "source": [
    "def count_nb_digits(text):\n",
    "    return(len([x for x in text if x.isdigit()]))"
   ]
  },
  {
   "cell_type": "code",
   "execution_count": 13,
   "metadata": {},
   "outputs": [],
   "source": [
    "def is_bad_topic(text):\n",
    "    lowertext = text.lower()\n",
    "    badwords = ['bad topics', 'i actually didnt find any bad recurring topics in my false positives/negatives', 'ill put the function in any way']\n",
    "    isbad = 0\n",
    "    for word in badwords:\n",
    "        if word in lowertext:\n",
    "            isbad+=1\n",
    "    return isbad\n",
    "    "
   ]
  },
  {
   "cell_type": "code",
   "execution_count": 15,
   "metadata": {},
   "outputs": [],
   "source": [
    "from sklearn.tree import DecisionTreeClassifier\n",
    "from sklearn.feature_extraction.text import CountVectorizer"
   ]
  },
  {
   "cell_type": "code",
   "execution_count": 16,
   "metadata": {},
   "outputs": [],
   "source": [
    "class CustomVectorizer():\n",
    "    #we'll decorate our vectorizer to add our features\n",
    "    vectorizer = CountVectorizer()    \n",
    "    treelocal = DecisionTreeClassifier(max_depth=17)\n",
    "    \n",
    "    def fit(self, df):\n",
    "        self.vectorizer.fit(list(df['CONTENT'].values))\n",
    "        y = df['CLASS'].values\n",
    "        X_train = self.vectorizer.transform(list(df['CONTENT'].values)).todense()\n",
    "        self.treelocal.fit(X_train,y)\n",
    "        return self\n",
    "        \n",
    "    def transform(self,df):\n",
    "        X_from_text = self.vectorizer.transform(list(df['CONTENT'].values)).todense()\n",
    "        dffromText = pd.DataFrame(X_from_text)\n",
    "        df['nb_digits'] = df['CONTENT'].apply(count_nb_digits)\n",
    "        # df['is_bad'] = df['CONTENT'].apply(is_bad_topic)\n",
    "        df = df.reset_index()\n",
    "        \n",
    "        dffromText['nbdigits'] = df['nb_digits']\n",
    "        # dffromText['is_bad'] = df['is_bad']\n",
    "        Xfinal = dffromText.values\n",
    "        return Xfinal\n",
    "    \n",
    "    def transform_text(self,text):\n",
    "        X_from_text = self.vectorizer.transform([text]).todense()\n",
    "        #let's remove some columns\n",
    "        dffromText = pd.DataFrame(X_from_text)\n",
    "        coltodrop = []\n",
    "        for index, item in enumerate(list(self.treelocal.feature_importances_)):\n",
    "            if float(item) == 0.:\n",
    "                coltodrop.append(index)\n",
    "#        dffromText = dffromText.drop(coltodrop, axis=1)\n",
    "        #let's add new features\n",
    "        df = pd.DataFrame(X_from_text)\n",
    "        df['CONTENT'] = text\n",
    "        df['nb_digits'] = df['CONTENT'].apply(count_nb_digits)\n",
    "        # df['is_bad'] = df['CONTENT'].apply(is_bad_topic)\n",
    "        df = df.reset_index()\n",
    "        \n",
    "        dffromText['nbdigits'] = df['nb_digits']\n",
    "        # dffromText['is_bad'] = df['is_bad']\n",
    "        Xfinal = dffromText.values\n",
    "        return Xfinal\n",
    "        \n"
   ]
  },
  {
   "cell_type": "code",
   "execution_count": 25,
   "metadata": {},
   "outputs": [
    {
     "output_type": "stream",
     "name": "stderr",
     "text": [
      "<ipython-input-16-a6dfc90bfc93>:16: SettingWithCopyWarning: \nA value is trying to be set on a copy of a slice from a DataFrame.\nTry using .loc[row_indexer,col_indexer] = value instead\n\nSee the caveats in the documentation: https://pandas.pydata.org/pandas-docs/stable/user_guide/indexing.html#returning-a-view-versus-a-copy\n  df['nb_digits'] = df['CONTENT'].apply(count_nb_digits)\n"
     ]
    }
   ],
   "source": [
    "vectorizer = CustomVectorizer()\n",
    "\n",
    "\n",
    "X_train = vectorizer.fit(df_train).transform(df_train)\n",
    "\n",
    "X_test = vectorizer.transform(df_test)\n",
    "clf = LogisticRegression(C = 1).fit(X_train, y_train)"
   ]
  },
  {
   "cell_type": "code",
   "execution_count": 26,
   "metadata": {},
   "outputs": [
    {
     "output_type": "stream",
     "name": "stdout",
     "text": [
      "Accuracy : 0.9891248058001035\n"
     ]
    }
   ],
   "source": [
    "y_pred = clf.predict(X_test)\n",
    "\n",
    "print('Accuracy : %s' % np.mean(y_pred == y_test))"
   ]
  },
  {
   "source": [
    "I got some minor improvement but nothing really noticeable since we're already so close to 98%, i'll try to put all of this in a class to make it easier to use."
   ],
   "cell_type": "markdown",
   "metadata": {}
  },
  {
   "cell_type": "code",
   "execution_count": 27,
   "metadata": {},
   "outputs": [],
   "source": [
    "class CustomModel():\n",
    "    _innerModel = LogisticRegression(C = 1)\n",
    "    _vectorizer = CustomVectorizer()\n",
    "    \n",
    "    def fit(self, df):\n",
    "        y = df['CLASS'].values\n",
    "        self._vectorizer.fit(df)\n",
    "        X = self._vectorizer.transform(df)\n",
    "        self._innerModel.fit(X,y)\n",
    "        return self\n",
    "        \n",
    "    \n",
    "    def predict(self,df):\n",
    "        X = self._vectorizer.transform(df)\n",
    "        return self._innerModel.predict(X)\n",
    "    \n",
    "    def predict_text(self,text):\n",
    "        X = self._vectorizer.transform_text(text)\n",
    "        y = self._innerModel.predict(X)\n",
    "        if int(y) == 1:\n",
    "            return 'SPAM !!!'\n",
    "        else:\n",
    "            return 'ok'"
   ]
  },
  {
   "cell_type": "code",
   "execution_count": 28,
   "metadata": {},
   "outputs": [
    {
     "output_type": "stream",
     "name": "stderr",
     "text": [
      "<ipython-input-16-a6dfc90bfc93>:16: SettingWithCopyWarning: \n",
      "A value is trying to be set on a copy of a slice from a DataFrame.\n",
      "Try using .loc[row_indexer,col_indexer] = value instead\n",
      "\n",
      "See the caveats in the documentation: https://pandas.pydata.org/pandas-docs/stable/user_guide/indexing.html#returning-a-view-versus-a-copy\n",
      "  df['nb_digits'] = df['CONTENT'].apply(count_nb_digits)\n",
      "Accuracy : 0.9891248058001035\n",
      "<ipython-input-16-a6dfc90bfc93>:16: SettingWithCopyWarning: \n",
      "A value is trying to be set on a copy of a slice from a DataFrame.\n",
      "Try using .loc[row_indexer,col_indexer] = value instead\n",
      "\n",
      "See the caveats in the documentation: https://pandas.pydata.org/pandas-docs/stable/user_guide/indexing.html#returning-a-view-versus-a-copy\n",
      "  df['nb_digits'] = df['CONTENT'].apply(count_nb_digits)\n"
     ]
    }
   ],
   "source": [
    "\n",
    "clf = CustomModel().fit(df_train)\n",
    "y_pred = clf.predict(df_test)\n",
    "\n",
    "\n",
    "print('Accuracy : %s' % np.mean(y_pred == y_test))"
   ]
  },
  {
   "source": [
    "Time is running and i don't have much left before 23:59 i'll settle for this model "
   ],
   "cell_type": "markdown",
   "metadata": {}
  },
  {
   "cell_type": "markdown",
   "metadata": {},
   "source": [
    "let's try with something else, i'll look up some spam datasets on kaggle and we'll see how my classifier performs \n",
    "\n",
    "i used this one : https://www.kaggle.com/uciml/sms-spam-collection-dataset/"
   ]
  },
  {
   "cell_type": "code",
   "execution_count": null,
   "metadata": {},
   "outputs": [],
   "source": []
  },
  {
   "cell_type": "code",
   "execution_count": 34,
   "metadata": {},
   "outputs": [],
   "source": [
    "pathKaggleSet = \"./Data/spamKaggle.csv\"\n",
    "dfKaggle = pd.read_csv(pathKaggleSet)\n",
    "dfKaggle = dfKaggle[['v1','v2']] #Only intereset in the first columns\n",
    "dfKaggle = dfKaggle.replace({\"v1\": {\"spam\":1,\"ham\":0}})\n",
    "dfKaggle= dfKaggle.rename(columns={'v1': 'CLASS', 'v2': 'CONTENT'})\n",
    "y_testKaggle = dfKaggle['CLASS'].values\n",
    "y_pred = clf.predict(dfKaggle)\n",
    "# x_testKaggle = vectorizer.transform(list(dfKaggle['CONTENT'].values)).todense()\n"
   ]
  },
  {
   "cell_type": "code",
   "execution_count": 36,
   "metadata": {},
   "outputs": [
    {
     "output_type": "stream",
     "name": "stdout",
     "text": [
      "Accuracy : 0.9960516870064609\n"
     ]
    }
   ],
   "source": [
    "# predKaggle = classifier.predict(x_testKaggle)\n",
    "print('Accuracy : %s' % np.mean(y_pred == y_testKaggle)) #we got some improvement i guess"
   ]
  },
  {
   "cell_type": "code",
   "execution_count": 15,
   "metadata": {},
   "outputs": [
    {
     "output_type": "stream",
     "name": "stdout",
     "text": [
      "[[4795   30]\n [   3  744]]\n"
     ]
    }
   ],
   "source": [
    "cm = confusion_matrix(y_testKaggle, predKaggle)\n",
    "print(cm)\n"
   ]
  },
  {
   "cell_type": "code",
   "execution_count": 16,
   "metadata": {},
   "outputs": [],
   "source": [
    "true_spams = [list(dfKaggle['CONTENT'])[i] for i in range(predKaggle.shape[0]) if y_testKaggle[i] == 1 and predKaggle[i] ==0]\n",
    "false_spams = [list(dfKaggle['CONTENT'])[i] for i in range(predKaggle.shape[0]) if y_testKaggle[i] == 0 and predKaggle[i] ==1]"
   ]
  },
  {
   "cell_type": "markdown",
   "metadata": {},
   "source": [
    "as weird as it seems it looks like the model is *this* accurate but i'm sure i forgot something. it happened once to classmates where they forgot to drop the class table from the test set but i made sure to only pass the column content so it couldn't be this. "
   ]
  },
  {
   "cell_type": "markdown",
   "metadata": {},
   "source": [
    "i'll try a youtube spam dataset this time. from here : https://archive.ics.uci.edu/ml/datasets/YouTube+Spam+Collection"
   ]
  },
  {
   "cell_type": "code",
   "execution_count": 17,
   "metadata": {},
   "outputs": [],
   "source": [
    "path_psy = 'Youtube01-Psy.csv'\n",
    "path_perry = 'Youtube02-KatyPerry.csv'\n",
    "path_LMFAO = 'Youtube03-LMFAO.csv'\n",
    "path_eminem = 'Youtube04-Eminem.csv'\n",
    "path_shakira = 'Youtube05-Shakira.csv'\n",
    "\n",
    "df_psy = pd.read_csv(path_psy)\n",
    "df_perry = pd.read_csv(path_perry)\n",
    "df_LMFAO = pd.read_csv(path_LMFAO)\n",
    "df_eminem = pd.read_csv(path_eminem)\n",
    "df_shakira = pd.read_csv(path_shakira)"
   ]
  },
  {
   "cell_type": "code",
   "execution_count": 18,
   "metadata": {},
   "outputs": [
    {
     "output_type": "execute_result",
     "data": {
      "text/plain": [
       "                                      COMMENT_ID                AUTHOR  \\\n",
       "0    LZQPQhLyRh80UYxNuaDWhIGQYNQ96IuCg-AYWqNPjpU             Julius NM   \n",
       "1    LZQPQhLyRh_C2cTtd9MvFRJedxydaVW-2sNg5Diuo4A           adam riyati   \n",
       "2    LZQPQhLyRh9MSZYnf8djyk0gEF9BHDPYrrK-qCczIY8      Evgeny Murashkin   \n",
       "3            z13jhp0bxqncu512g22wvzkasxmvvzjaz04       ElNino Melendez   \n",
       "4            z13fwbwp1oujthgqj04chlngpvzmtt3r3dw                GsMega   \n",
       "..                                           ...                   ...   \n",
       "365  _2viQ_Qnc6-bMSjqyL1NKj57ROicCSJV5SwTrw-RFFA          Katie Mettam   \n",
       "366  _2viQ_Qnc6-pY-1yR6K2FhmC5i48-WuNx5CumlHLDAI  Sabina Pearson-Smith   \n",
       "367  _2viQ_Qnc6_k_n_Bse9zVhJP8tJReZpo8uM2uZfnzDs         jeffrey jules   \n",
       "368  _2viQ_Qnc6_yBt8UGMWyg3vh0PulTqcqyQtdE7d4Fl0        Aishlin Maciel   \n",
       "369  _2viQ_Qnc685RPw1aSa1tfrIuHXRvAQ2rPT9R06KTqA           Latin Bosch   \n",
       "\n",
       "                           DATE  \\\n",
       "0           2013-11-07T06:20:48   \n",
       "1           2013-11-07T12:37:15   \n",
       "2           2013-11-08T17:34:21   \n",
       "3           2013-11-09T08:28:43   \n",
       "4           2013-11-10T16:05:38   \n",
       "..                          ...   \n",
       "365  2013-07-13T13:27:39.441000   \n",
       "366  2013-07-13T13:14:30.021000   \n",
       "367  2013-07-13T12:09:31.188000   \n",
       "368  2013-07-13T11:17:52.308000   \n",
       "369  2013-07-12T22:33:27.916000   \n",
       "\n",
       "                                               CONTENT  CLASS  \n",
       "0    Huh, anyway check out this you[tube] channel: ...      1  \n",
       "1    Hey guys check out my new channel and our firs...      1  \n",
       "2               just for test I have to say murdev.com      1  \n",
       "3     me shaking my sexy ass on my channel enjoy ^_^ ﻿      1  \n",
       "4              watch?v=vtaRGgvGtWQ   Check this out .﻿      1  \n",
       "..                                                 ...    ...  \n",
       "365  I love this song because we sing it at Camp al...      0  \n",
       "366  I love this song for two reasons: 1.it is abou...      0  \n",
       "367                                                wow      0  \n",
       "368                            Shakira u are so wiredo      0  \n",
       "369                         Shakira is the best dancer      0  \n",
       "\n",
       "[1956 rows x 5 columns]"
      ],
      "text/html": "<div>\n<style scoped>\n    .dataframe tbody tr th:only-of-type {\n        vertical-align: middle;\n    }\n\n    .dataframe tbody tr th {\n        vertical-align: top;\n    }\n\n    .dataframe thead th {\n        text-align: right;\n    }\n</style>\n<table border=\"1\" class=\"dataframe\">\n  <thead>\n    <tr style=\"text-align: right;\">\n      <th></th>\n      <th>COMMENT_ID</th>\n      <th>AUTHOR</th>\n      <th>DATE</th>\n      <th>CONTENT</th>\n      <th>CLASS</th>\n    </tr>\n  </thead>\n  <tbody>\n    <tr>\n      <th>0</th>\n      <td>LZQPQhLyRh80UYxNuaDWhIGQYNQ96IuCg-AYWqNPjpU</td>\n      <td>Julius NM</td>\n      <td>2013-11-07T06:20:48</td>\n      <td>Huh, anyway check out this you[tube] channel: ...</td>\n      <td>1</td>\n    </tr>\n    <tr>\n      <th>1</th>\n      <td>LZQPQhLyRh_C2cTtd9MvFRJedxydaVW-2sNg5Diuo4A</td>\n      <td>adam riyati</td>\n      <td>2013-11-07T12:37:15</td>\n      <td>Hey guys check out my new channel and our firs...</td>\n      <td>1</td>\n    </tr>\n    <tr>\n      <th>2</th>\n      <td>LZQPQhLyRh9MSZYnf8djyk0gEF9BHDPYrrK-qCczIY8</td>\n      <td>Evgeny Murashkin</td>\n      <td>2013-11-08T17:34:21</td>\n      <td>just for test I have to say murdev.com</td>\n      <td>1</td>\n    </tr>\n    <tr>\n      <th>3</th>\n      <td>z13jhp0bxqncu512g22wvzkasxmvvzjaz04</td>\n      <td>ElNino Melendez</td>\n      <td>2013-11-09T08:28:43</td>\n      <td>me shaking my sexy ass on my channel enjoy ^_^ ﻿</td>\n      <td>1</td>\n    </tr>\n    <tr>\n      <th>4</th>\n      <td>z13fwbwp1oujthgqj04chlngpvzmtt3r3dw</td>\n      <td>GsMega</td>\n      <td>2013-11-10T16:05:38</td>\n      <td>watch?v=vtaRGgvGtWQ   Check this out .﻿</td>\n      <td>1</td>\n    </tr>\n    <tr>\n      <th>...</th>\n      <td>...</td>\n      <td>...</td>\n      <td>...</td>\n      <td>...</td>\n      <td>...</td>\n    </tr>\n    <tr>\n      <th>365</th>\n      <td>_2viQ_Qnc6-bMSjqyL1NKj57ROicCSJV5SwTrw-RFFA</td>\n      <td>Katie Mettam</td>\n      <td>2013-07-13T13:27:39.441000</td>\n      <td>I love this song because we sing it at Camp al...</td>\n      <td>0</td>\n    </tr>\n    <tr>\n      <th>366</th>\n      <td>_2viQ_Qnc6-pY-1yR6K2FhmC5i48-WuNx5CumlHLDAI</td>\n      <td>Sabina Pearson-Smith</td>\n      <td>2013-07-13T13:14:30.021000</td>\n      <td>I love this song for two reasons: 1.it is abou...</td>\n      <td>0</td>\n    </tr>\n    <tr>\n      <th>367</th>\n      <td>_2viQ_Qnc6_k_n_Bse9zVhJP8tJReZpo8uM2uZfnzDs</td>\n      <td>jeffrey jules</td>\n      <td>2013-07-13T12:09:31.188000</td>\n      <td>wow</td>\n      <td>0</td>\n    </tr>\n    <tr>\n      <th>368</th>\n      <td>_2viQ_Qnc6_yBt8UGMWyg3vh0PulTqcqyQtdE7d4Fl0</td>\n      <td>Aishlin Maciel</td>\n      <td>2013-07-13T11:17:52.308000</td>\n      <td>Shakira u are so wiredo</td>\n      <td>0</td>\n    </tr>\n    <tr>\n      <th>369</th>\n      <td>_2viQ_Qnc685RPw1aSa1tfrIuHXRvAQ2rPT9R06KTqA</td>\n      <td>Latin Bosch</td>\n      <td>2013-07-12T22:33:27.916000</td>\n      <td>Shakira is the best dancer</td>\n      <td>0</td>\n    </tr>\n  </tbody>\n</table>\n<p>1956 rows × 5 columns</p>\n</div>"
     },
     "metadata": {},
     "execution_count": 18
    }
   ],
   "source": [
    "bigDf = pd.concat([df_psy,df_perry,df_LMFAO,df_eminem,df_shakira])\n",
    "bigDf"
   ]
  },
  {
   "cell_type": "code",
   "execution_count": 19,
   "metadata": {
    "collapsed": true
   },
   "outputs": [
    {
     "output_type": "execute_result",
     "data": {
      "text/plain": [
       "                                               CONTENT  CLASS\n",
       "0    Huh, anyway check out this you[tube] channel: ...      1\n",
       "1    Hey guys check out my new channel and our firs...      1\n",
       "2               just for test I have to say murdev.com      1\n",
       "3     me shaking my sexy ass on my channel enjoy ^_^ ﻿      1\n",
       "4              watch?v=vtaRGgvGtWQ   Check this out .﻿      1\n",
       "..                                                 ...    ...\n",
       "365  I love this song because we sing it at Camp al...      0\n",
       "366  I love this song for two reasons: 1.it is abou...      0\n",
       "367                                                wow      0\n",
       "368                            Shakira u are so wiredo      0\n",
       "369                         Shakira is the best dancer      0\n",
       "\n",
       "[1956 rows x 2 columns]"
      ],
      "text/html": "<div>\n<style scoped>\n    .dataframe tbody tr th:only-of-type {\n        vertical-align: middle;\n    }\n\n    .dataframe tbody tr th {\n        vertical-align: top;\n    }\n\n    .dataframe thead th {\n        text-align: right;\n    }\n</style>\n<table border=\"1\" class=\"dataframe\">\n  <thead>\n    <tr style=\"text-align: right;\">\n      <th></th>\n      <th>CONTENT</th>\n      <th>CLASS</th>\n    </tr>\n  </thead>\n  <tbody>\n    <tr>\n      <th>0</th>\n      <td>Huh, anyway check out this you[tube] channel: ...</td>\n      <td>1</td>\n    </tr>\n    <tr>\n      <th>1</th>\n      <td>Hey guys check out my new channel and our firs...</td>\n      <td>1</td>\n    </tr>\n    <tr>\n      <th>2</th>\n      <td>just for test I have to say murdev.com</td>\n      <td>1</td>\n    </tr>\n    <tr>\n      <th>3</th>\n      <td>me shaking my sexy ass on my channel enjoy ^_^ ﻿</td>\n      <td>1</td>\n    </tr>\n    <tr>\n      <th>4</th>\n      <td>watch?v=vtaRGgvGtWQ   Check this out .﻿</td>\n      <td>1</td>\n    </tr>\n    <tr>\n      <th>...</th>\n      <td>...</td>\n      <td>...</td>\n    </tr>\n    <tr>\n      <th>365</th>\n      <td>I love this song because we sing it at Camp al...</td>\n      <td>0</td>\n    </tr>\n    <tr>\n      <th>366</th>\n      <td>I love this song for two reasons: 1.it is abou...</td>\n      <td>0</td>\n    </tr>\n    <tr>\n      <th>367</th>\n      <td>wow</td>\n      <td>0</td>\n    </tr>\n    <tr>\n      <th>368</th>\n      <td>Shakira u are so wiredo</td>\n      <td>0</td>\n    </tr>\n    <tr>\n      <th>369</th>\n      <td>Shakira is the best dancer</td>\n      <td>0</td>\n    </tr>\n  </tbody>\n</table>\n<p>1956 rows × 2 columns</p>\n</div>"
     },
     "metadata": {},
     "execution_count": 19
    }
   ],
   "source": [
    "bigDf.drop(['COMMENT_ID', 'AUTHOR','DATE'],axis=1)\n",
    "\n"
   ]
  },
  {
   "cell_type": "markdown",
   "metadata": {},
   "source": [
    "I should maybe factorize the prediction part into a function"
   ]
  },
  {
   "cell_type": "code",
   "execution_count": 20,
   "metadata": {},
   "outputs": [],
   "source": [
    "y_testBig = bigDf['CLASS'].values\n",
    "x_testBig = vectorizer.transform(list(bigDf['CONTENT'].values)).todense() "
   ]
  },
  {
   "cell_type": "code",
   "execution_count": 21,
   "metadata": {},
   "outputs": [
    {
     "output_type": "stream",
     "name": "stdout",
     "text": [
      "Accuracy : 0.5393660531697342\n"
     ]
    }
   ],
   "source": [
    "pred = classifier.predict(x_testBig)\n",
    "print('Accuracy : %s' % np.mean(pred == y_testBig))  "
   ]
  },
  {
   "cell_type": "markdown",
   "metadata": {},
   "source": [
    "alright so we got less than 0.99 which is good news i guess ? means our model and way of training it isn't that bad, this result is most likely because youtube spam and sms spams are a lil bit too different"
   ]
  },
  {
   "cell_type": "markdown",
   "metadata": {},
   "source": [
    "# METRICS"
   ]
  },
  {
   "cell_type": "code",
   "execution_count": 22,
   "metadata": {},
   "outputs": [],
   "source": [
    "from sklearn.metrics import classification_report, confusion_matrix, accuracy_score\n",
    "from sklearn import metrics\n",
    "from sklearn.model_selection import cross_validate, cross_val_predict"
   ]
  },
  {
   "cell_type": "code",
   "execution_count": 23,
   "metadata": {},
   "outputs": [
    {
     "output_type": "stream",
     "name": "stdout",
     "text": [
      "[[959  12]\n [ 17 943]]\n              precision    recall  f1-score   support\n\n           0       0.98      0.99      0.99       971\n           1       0.99      0.98      0.98       960\n\n    accuracy                           0.98      1931\n   macro avg       0.99      0.98      0.98      1931\nweighted avg       0.98      0.98      0.98      1931\n\n0.9849818746763335\n"
     ]
    }
   ],
   "source": [
    "print(confusion_matrix(y_test,y_pred))\n",
    "print(classification_report(y_test,y_pred))\n",
    "print(accuracy_score(y_test, y_pred))"
   ]
  },
  {
   "cell_type": "code",
   "execution_count": 24,
   "metadata": {},
   "outputs": [
    {
     "output_type": "execute_result",
     "data": {
      "text/plain": [
       "9654"
      ]
     },
     "metadata": {},
     "execution_count": 24
    }
   ],
   "source": [
    "X = vectorizer.fit_transform(list(df['CONTENT'].values)).todense()\n",
    "len(X)"
   ]
  },
  {
   "cell_type": "code",
   "execution_count": 25,
   "metadata": {
    "scrolled": false
   },
   "outputs": [
    {
     "output_type": "stream",
     "name": "stdout",
     "text": [
      "0.9897451833436918\n              precision    recall  f1-score   support\n\n           0       0.99      0.99      0.99      4827\n           1       0.99      0.99      0.99      4827\n\n    accuracy                           0.99      9654\n   macro avg       0.99      0.99      0.99      9654\nweighted avg       0.99      0.99      0.99      9654\n\n"
     ]
    }
   ],
   "source": [
    "\n",
    "predicted = cross_val_predict(classifier, X, df['CLASS'] , cv=4) #4 fold CV\n",
    "\n",
    "print (metrics.accuracy_score(df['CLASS'], predicted))\n",
    "print (metrics.classification_report(df['CLASS'], predicted))"
   ]
  },
  {
   "cell_type": "markdown",
   "metadata": {},
   "source": [
    "As we can tell from the classification report the model is really really accurate, but i do believe it's caused by the dataset\n",
    "\n",
    "let's compute the ROC curve, i've never done it but it looks interesting and statiscally pertinent"
   ]
  },
  {
   "cell_type": "code",
   "execution_count": 26,
   "metadata": {},
   "outputs": [],
   "source": [
    "y_score = classifier.predict_proba(X_test)\n",
    "y_score = np.array(y_score)"
   ]
  },
  {
   "cell_type": "code",
   "execution_count": 27,
   "metadata": {},
   "outputs": [],
   "source": [
    "from sklearn.preprocessing import label_binarize\n",
    "y_test_bin = label_binarize(y_test, neg_label=0, pos_label=1, classes=[0,1])\n",
    "y_test_bin = np.hstack((1 - y_test_bin, y_test_bin)) # had to google that bit of code because binarize gives weird results with only 2 classes"
   ]
  },
  {
   "cell_type": "code",
   "execution_count": 28,
   "metadata": {},
   "outputs": [],
   "source": [
    "from sklearn.metrics import roc_curve, auc\n",
    "import matplotlib.pyplot as plt\n",
    "fpr = dict()\n",
    "tpr = dict()\n",
    "roc_auc = dict()\n",
    "for i in [0,1]:\n",
    "    # collect labels and scores for the current index\n",
    "    labels = y_test_bin[:, i]\n",
    "    scores = y_score[:, i]\n",
    "    \n",
    "    # calculates FPR and TPR for a number of thresholds\n",
    "    fpr[i], tpr[i], thresholds = roc_curve(labels, scores)\n",
    "    \n",
    "    # given points on a curve, this calculates the area under it\n",
    "    roc_auc[i] = auc(fpr[i], tpr[i])"
   ]
  },
  {
   "cell_type": "code",
   "execution_count": 49,
   "metadata": {},
   "outputs": [
    {
     "output_type": "display_data",
     "data": {
      "text/plain": "<Figure size 432x288 with 1 Axes>",
      "image/svg+xml": "<?xml version=\"1.0\" encoding=\"utf-8\" standalone=\"no\"?>\n<!DOCTYPE svg PUBLIC \"-//W3C//DTD SVG 1.1//EN\"\n  \"http://www.w3.org/Graphics/SVG/1.1/DTD/svg11.dtd\">\n<svg height=\"277.314375pt\" version=\"1.1\" viewBox=\"0 0 393.732813 277.314375\" width=\"393.732813pt\" xmlns=\"http://www.w3.org/2000/svg\" xmlns:xlink=\"http://www.w3.org/1999/xlink\">\n <metadata>\n  <rdf:RDF xmlns:cc=\"http://creativecommons.org/ns#\" xmlns:dc=\"http://purl.org/dc/elements/1.1/\" xmlns:rdf=\"http://www.w3.org/1999/02/22-rdf-syntax-ns#\">\n   <cc:Work>\n    <dc:type rdf:resource=\"http://purl.org/dc/dcmitype/StillImage\"/>\n    <dc:date>2021-03-27T14:06:11.905238</dc:date>\n    <dc:format>image/svg+xml</dc:format>\n    <dc:creator>\n     <cc:Agent>\n      <dc:title>Matplotlib v3.4.0, https://matplotlib.org/</dc:title>\n     </cc:Agent>\n    </dc:creator>\n   </cc:Work>\n  </rdf:RDF>\n </metadata>\n <defs>\n  <style type=\"text/css\">*{stroke-linecap:butt;stroke-linejoin:round;}</style>\n </defs>\n <g id=\"figure_1\">\n  <g id=\"patch_1\">\n   <path d=\"M 0 277.314375 \nL 393.732813 277.314375 \nL 393.732813 0 \nL 0 0 \nz\n\" style=\"fill:none;\"/>\n  </g>\n  <g id=\"axes_1\">\n   <g id=\"patch_2\">\n    <path d=\"M 43.78125 239.758125 \nL 378.58125 239.758125 \nL 378.58125 22.318125 \nL 43.78125 22.318125 \nz\n\" style=\"fill:#ffffff;\"/>\n   </g>\n   <g id=\"matplotlib.axis_1\">\n    <g id=\"xtick_1\">\n     <g id=\"line2d_1\">\n      <defs>\n       <path d=\"M 0 0 \nL 0 3.5 \n\" id=\"ma4bda097dc\" style=\"stroke:#000000;stroke-width:0.8;\"/>\n      </defs>\n      <g>\n       <use style=\"stroke:#000000;stroke-width:0.8;\" x=\"43.78125\" xlink:href=\"#ma4bda097dc\" y=\"239.758125\"/>\n      </g>\n     </g>\n     <g id=\"text_1\">\n      <!-- 0.0 -->\n      <g transform=\"translate(35.829688 254.356562)scale(0.1 -0.1)\">\n       <defs>\n        <path d=\"M 2034 4250 \nQ 1547 4250 1301 3770 \nQ 1056 3291 1056 2328 \nQ 1056 1369 1301 889 \nQ 1547 409 2034 409 \nQ 2525 409 2770 889 \nQ 3016 1369 3016 2328 \nQ 3016 3291 2770 3770 \nQ 2525 4250 2034 4250 \nz\nM 2034 4750 \nQ 2819 4750 3233 4129 \nQ 3647 3509 3647 2328 \nQ 3647 1150 3233 529 \nQ 2819 -91 2034 -91 \nQ 1250 -91 836 529 \nQ 422 1150 422 2328 \nQ 422 3509 836 4129 \nQ 1250 4750 2034 4750 \nz\n\" id=\"DejaVuSans-30\" transform=\"scale(0.015625)\"/>\n        <path d=\"M 684 794 \nL 1344 794 \nL 1344 0 \nL 684 0 \nL 684 794 \nz\n\" id=\"DejaVuSans-2e\" transform=\"scale(0.015625)\"/>\n       </defs>\n       <use xlink:href=\"#DejaVuSans-30\"/>\n       <use x=\"63.623047\" xlink:href=\"#DejaVuSans-2e\"/>\n       <use x=\"95.410156\" xlink:href=\"#DejaVuSans-30\"/>\n      </g>\n     </g>\n    </g>\n    <g id=\"xtick_2\">\n     <g id=\"line2d_2\">\n      <g>\n       <use style=\"stroke:#000000;stroke-width:0.8;\" x=\"110.74125\" xlink:href=\"#ma4bda097dc\" y=\"239.758125\"/>\n      </g>\n     </g>\n     <g id=\"text_2\">\n      <!-- 0.2 -->\n      <g transform=\"translate(102.789688 254.356562)scale(0.1 -0.1)\">\n       <defs>\n        <path d=\"M 1228 531 \nL 3431 531 \nL 3431 0 \nL 469 0 \nL 469 531 \nQ 828 903 1448 1529 \nQ 2069 2156 2228 2338 \nQ 2531 2678 2651 2914 \nQ 2772 3150 2772 3378 \nQ 2772 3750 2511 3984 \nQ 2250 4219 1831 4219 \nQ 1534 4219 1204 4116 \nQ 875 4013 500 3803 \nL 500 4441 \nQ 881 4594 1212 4672 \nQ 1544 4750 1819 4750 \nQ 2544 4750 2975 4387 \nQ 3406 4025 3406 3419 \nQ 3406 3131 3298 2873 \nQ 3191 2616 2906 2266 \nQ 2828 2175 2409 1742 \nQ 1991 1309 1228 531 \nz\n\" id=\"DejaVuSans-32\" transform=\"scale(0.015625)\"/>\n       </defs>\n       <use xlink:href=\"#DejaVuSans-30\"/>\n       <use x=\"63.623047\" xlink:href=\"#DejaVuSans-2e\"/>\n       <use x=\"95.410156\" xlink:href=\"#DejaVuSans-32\"/>\n      </g>\n     </g>\n    </g>\n    <g id=\"xtick_3\">\n     <g id=\"line2d_3\">\n      <g>\n       <use style=\"stroke:#000000;stroke-width:0.8;\" x=\"177.70125\" xlink:href=\"#ma4bda097dc\" y=\"239.758125\"/>\n      </g>\n     </g>\n     <g id=\"text_3\">\n      <!-- 0.4 -->\n      <g transform=\"translate(169.749688 254.356562)scale(0.1 -0.1)\">\n       <defs>\n        <path d=\"M 2419 4116 \nL 825 1625 \nL 2419 1625 \nL 2419 4116 \nz\nM 2253 4666 \nL 3047 4666 \nL 3047 1625 \nL 3713 1625 \nL 3713 1100 \nL 3047 1100 \nL 3047 0 \nL 2419 0 \nL 2419 1100 \nL 313 1100 \nL 313 1709 \nL 2253 4666 \nz\n\" id=\"DejaVuSans-34\" transform=\"scale(0.015625)\"/>\n       </defs>\n       <use xlink:href=\"#DejaVuSans-30\"/>\n       <use x=\"63.623047\" xlink:href=\"#DejaVuSans-2e\"/>\n       <use x=\"95.410156\" xlink:href=\"#DejaVuSans-34\"/>\n      </g>\n     </g>\n    </g>\n    <g id=\"xtick_4\">\n     <g id=\"line2d_4\">\n      <g>\n       <use style=\"stroke:#000000;stroke-width:0.8;\" x=\"244.66125\" xlink:href=\"#ma4bda097dc\" y=\"239.758125\"/>\n      </g>\n     </g>\n     <g id=\"text_4\">\n      <!-- 0.6 -->\n      <g transform=\"translate(236.709688 254.356562)scale(0.1 -0.1)\">\n       <defs>\n        <path d=\"M 2113 2584 \nQ 1688 2584 1439 2293 \nQ 1191 2003 1191 1497 \nQ 1191 994 1439 701 \nQ 1688 409 2113 409 \nQ 2538 409 2786 701 \nQ 3034 994 3034 1497 \nQ 3034 2003 2786 2293 \nQ 2538 2584 2113 2584 \nz\nM 3366 4563 \nL 3366 3988 \nQ 3128 4100 2886 4159 \nQ 2644 4219 2406 4219 \nQ 1781 4219 1451 3797 \nQ 1122 3375 1075 2522 \nQ 1259 2794 1537 2939 \nQ 1816 3084 2150 3084 \nQ 2853 3084 3261 2657 \nQ 3669 2231 3669 1497 \nQ 3669 778 3244 343 \nQ 2819 -91 2113 -91 \nQ 1303 -91 875 529 \nQ 447 1150 447 2328 \nQ 447 3434 972 4092 \nQ 1497 4750 2381 4750 \nQ 2619 4750 2861 4703 \nQ 3103 4656 3366 4563 \nz\n\" id=\"DejaVuSans-36\" transform=\"scale(0.015625)\"/>\n       </defs>\n       <use xlink:href=\"#DejaVuSans-30\"/>\n       <use x=\"63.623047\" xlink:href=\"#DejaVuSans-2e\"/>\n       <use x=\"95.410156\" xlink:href=\"#DejaVuSans-36\"/>\n      </g>\n     </g>\n    </g>\n    <g id=\"xtick_5\">\n     <g id=\"line2d_5\">\n      <g>\n       <use style=\"stroke:#000000;stroke-width:0.8;\" x=\"311.62125\" xlink:href=\"#ma4bda097dc\" y=\"239.758125\"/>\n      </g>\n     </g>\n     <g id=\"text_5\">\n      <!-- 0.8 -->\n      <g transform=\"translate(303.669688 254.356562)scale(0.1 -0.1)\">\n       <defs>\n        <path d=\"M 2034 2216 \nQ 1584 2216 1326 1975 \nQ 1069 1734 1069 1313 \nQ 1069 891 1326 650 \nQ 1584 409 2034 409 \nQ 2484 409 2743 651 \nQ 3003 894 3003 1313 \nQ 3003 1734 2745 1975 \nQ 2488 2216 2034 2216 \nz\nM 1403 2484 \nQ 997 2584 770 2862 \nQ 544 3141 544 3541 \nQ 544 4100 942 4425 \nQ 1341 4750 2034 4750 \nQ 2731 4750 3128 4425 \nQ 3525 4100 3525 3541 \nQ 3525 3141 3298 2862 \nQ 3072 2584 2669 2484 \nQ 3125 2378 3379 2068 \nQ 3634 1759 3634 1313 \nQ 3634 634 3220 271 \nQ 2806 -91 2034 -91 \nQ 1263 -91 848 271 \nQ 434 634 434 1313 \nQ 434 1759 690 2068 \nQ 947 2378 1403 2484 \nz\nM 1172 3481 \nQ 1172 3119 1398 2916 \nQ 1625 2713 2034 2713 \nQ 2441 2713 2670 2916 \nQ 2900 3119 2900 3481 \nQ 2900 3844 2670 4047 \nQ 2441 4250 2034 4250 \nQ 1625 4250 1398 4047 \nQ 1172 3844 1172 3481 \nz\n\" id=\"DejaVuSans-38\" transform=\"scale(0.015625)\"/>\n       </defs>\n       <use xlink:href=\"#DejaVuSans-30\"/>\n       <use x=\"63.623047\" xlink:href=\"#DejaVuSans-2e\"/>\n       <use x=\"95.410156\" xlink:href=\"#DejaVuSans-38\"/>\n      </g>\n     </g>\n    </g>\n    <g id=\"xtick_6\">\n     <g id=\"line2d_6\">\n      <g>\n       <use style=\"stroke:#000000;stroke-width:0.8;\" x=\"378.58125\" xlink:href=\"#ma4bda097dc\" y=\"239.758125\"/>\n      </g>\n     </g>\n     <g id=\"text_6\">\n      <!-- 1.0 -->\n      <g transform=\"translate(370.629687 254.356562)scale(0.1 -0.1)\">\n       <defs>\n        <path d=\"M 794 531 \nL 1825 531 \nL 1825 4091 \nL 703 3866 \nL 703 4441 \nL 1819 4666 \nL 2450 4666 \nL 2450 531 \nL 3481 531 \nL 3481 0 \nL 794 0 \nL 794 531 \nz\n\" id=\"DejaVuSans-31\" transform=\"scale(0.015625)\"/>\n       </defs>\n       <use xlink:href=\"#DejaVuSans-31\"/>\n       <use x=\"63.623047\" xlink:href=\"#DejaVuSans-2e\"/>\n       <use x=\"95.410156\" xlink:href=\"#DejaVuSans-30\"/>\n      </g>\n     </g>\n    </g>\n    <g id=\"text_7\">\n     <!-- False Positive Rate -->\n     <g transform=\"translate(164.714844 268.034687)scale(0.1 -0.1)\">\n      <defs>\n       <path d=\"M 628 4666 \nL 3309 4666 \nL 3309 4134 \nL 1259 4134 \nL 1259 2759 \nL 3109 2759 \nL 3109 2228 \nL 1259 2228 \nL 1259 0 \nL 628 0 \nL 628 4666 \nz\n\" id=\"DejaVuSans-46\" transform=\"scale(0.015625)\"/>\n       <path d=\"M 2194 1759 \nQ 1497 1759 1228 1600 \nQ 959 1441 959 1056 \nQ 959 750 1161 570 \nQ 1363 391 1709 391 \nQ 2188 391 2477 730 \nQ 2766 1069 2766 1631 \nL 2766 1759 \nL 2194 1759 \nz\nM 3341 1997 \nL 3341 0 \nL 2766 0 \nL 2766 531 \nQ 2569 213 2275 61 \nQ 1981 -91 1556 -91 \nQ 1019 -91 701 211 \nQ 384 513 384 1019 \nQ 384 1609 779 1909 \nQ 1175 2209 1959 2209 \nL 2766 2209 \nL 2766 2266 \nQ 2766 2663 2505 2880 \nQ 2244 3097 1772 3097 \nQ 1472 3097 1187 3025 \nQ 903 2953 641 2809 \nL 641 3341 \nQ 956 3463 1253 3523 \nQ 1550 3584 1831 3584 \nQ 2591 3584 2966 3190 \nQ 3341 2797 3341 1997 \nz\n\" id=\"DejaVuSans-61\" transform=\"scale(0.015625)\"/>\n       <path d=\"M 603 4863 \nL 1178 4863 \nL 1178 0 \nL 603 0 \nL 603 4863 \nz\n\" id=\"DejaVuSans-6c\" transform=\"scale(0.015625)\"/>\n       <path d=\"M 2834 3397 \nL 2834 2853 \nQ 2591 2978 2328 3040 \nQ 2066 3103 1784 3103 \nQ 1356 3103 1142 2972 \nQ 928 2841 928 2578 \nQ 928 2378 1081 2264 \nQ 1234 2150 1697 2047 \nL 1894 2003 \nQ 2506 1872 2764 1633 \nQ 3022 1394 3022 966 \nQ 3022 478 2636 193 \nQ 2250 -91 1575 -91 \nQ 1294 -91 989 -36 \nQ 684 19 347 128 \nL 347 722 \nQ 666 556 975 473 \nQ 1284 391 1588 391 \nQ 1994 391 2212 530 \nQ 2431 669 2431 922 \nQ 2431 1156 2273 1281 \nQ 2116 1406 1581 1522 \nL 1381 1569 \nQ 847 1681 609 1914 \nQ 372 2147 372 2553 \nQ 372 3047 722 3315 \nQ 1072 3584 1716 3584 \nQ 2034 3584 2315 3537 \nQ 2597 3491 2834 3397 \nz\n\" id=\"DejaVuSans-73\" transform=\"scale(0.015625)\"/>\n       <path d=\"M 3597 1894 \nL 3597 1613 \nL 953 1613 \nQ 991 1019 1311 708 \nQ 1631 397 2203 397 \nQ 2534 397 2845 478 \nQ 3156 559 3463 722 \nL 3463 178 \nQ 3153 47 2828 -22 \nQ 2503 -91 2169 -91 \nQ 1331 -91 842 396 \nQ 353 884 353 1716 \nQ 353 2575 817 3079 \nQ 1281 3584 2069 3584 \nQ 2775 3584 3186 3129 \nQ 3597 2675 3597 1894 \nz\nM 3022 2063 \nQ 3016 2534 2758 2815 \nQ 2500 3097 2075 3097 \nQ 1594 3097 1305 2825 \nQ 1016 2553 972 2059 \nL 3022 2063 \nz\n\" id=\"DejaVuSans-65\" transform=\"scale(0.015625)\"/>\n       <path id=\"DejaVuSans-20\" transform=\"scale(0.015625)\"/>\n       <path d=\"M 1259 4147 \nL 1259 2394 \nL 2053 2394 \nQ 2494 2394 2734 2622 \nQ 2975 2850 2975 3272 \nQ 2975 3691 2734 3919 \nQ 2494 4147 2053 4147 \nL 1259 4147 \nz\nM 628 4666 \nL 2053 4666 \nQ 2838 4666 3239 4311 \nQ 3641 3956 3641 3272 \nQ 3641 2581 3239 2228 \nQ 2838 1875 2053 1875 \nL 1259 1875 \nL 1259 0 \nL 628 0 \nL 628 4666 \nz\n\" id=\"DejaVuSans-50\" transform=\"scale(0.015625)\"/>\n       <path d=\"M 1959 3097 \nQ 1497 3097 1228 2736 \nQ 959 2375 959 1747 \nQ 959 1119 1226 758 \nQ 1494 397 1959 397 \nQ 2419 397 2687 759 \nQ 2956 1122 2956 1747 \nQ 2956 2369 2687 2733 \nQ 2419 3097 1959 3097 \nz\nM 1959 3584 \nQ 2709 3584 3137 3096 \nQ 3566 2609 3566 1747 \nQ 3566 888 3137 398 \nQ 2709 -91 1959 -91 \nQ 1206 -91 779 398 \nQ 353 888 353 1747 \nQ 353 2609 779 3096 \nQ 1206 3584 1959 3584 \nz\n\" id=\"DejaVuSans-6f\" transform=\"scale(0.015625)\"/>\n       <path d=\"M 603 3500 \nL 1178 3500 \nL 1178 0 \nL 603 0 \nL 603 3500 \nz\nM 603 4863 \nL 1178 4863 \nL 1178 4134 \nL 603 4134 \nL 603 4863 \nz\n\" id=\"DejaVuSans-69\" transform=\"scale(0.015625)\"/>\n       <path d=\"M 1172 4494 \nL 1172 3500 \nL 2356 3500 \nL 2356 3053 \nL 1172 3053 \nL 1172 1153 \nQ 1172 725 1289 603 \nQ 1406 481 1766 481 \nL 2356 481 \nL 2356 0 \nL 1766 0 \nQ 1100 0 847 248 \nQ 594 497 594 1153 \nL 594 3053 \nL 172 3053 \nL 172 3500 \nL 594 3500 \nL 594 4494 \nL 1172 4494 \nz\n\" id=\"DejaVuSans-74\" transform=\"scale(0.015625)\"/>\n       <path d=\"M 191 3500 \nL 800 3500 \nL 1894 563 \nL 2988 3500 \nL 3597 3500 \nL 2284 0 \nL 1503 0 \nL 191 3500 \nz\n\" id=\"DejaVuSans-76\" transform=\"scale(0.015625)\"/>\n       <path d=\"M 2841 2188 \nQ 3044 2119 3236 1894 \nQ 3428 1669 3622 1275 \nL 4263 0 \nL 3584 0 \nL 2988 1197 \nQ 2756 1666 2539 1819 \nQ 2322 1972 1947 1972 \nL 1259 1972 \nL 1259 0 \nL 628 0 \nL 628 4666 \nL 2053 4666 \nQ 2853 4666 3247 4331 \nQ 3641 3997 3641 3322 \nQ 3641 2881 3436 2590 \nQ 3231 2300 2841 2188 \nz\nM 1259 4147 \nL 1259 2491 \nL 2053 2491 \nQ 2509 2491 2742 2702 \nQ 2975 2913 2975 3322 \nQ 2975 3731 2742 3939 \nQ 2509 4147 2053 4147 \nL 1259 4147 \nz\n\" id=\"DejaVuSans-52\" transform=\"scale(0.015625)\"/>\n      </defs>\n      <use xlink:href=\"#DejaVuSans-46\"/>\n      <use x=\"48.394531\" xlink:href=\"#DejaVuSans-61\"/>\n      <use x=\"109.673828\" xlink:href=\"#DejaVuSans-6c\"/>\n      <use x=\"137.457031\" xlink:href=\"#DejaVuSans-73\"/>\n      <use x=\"189.556641\" xlink:href=\"#DejaVuSans-65\"/>\n      <use x=\"251.080078\" xlink:href=\"#DejaVuSans-20\"/>\n      <use x=\"282.867188\" xlink:href=\"#DejaVuSans-50\"/>\n      <use x=\"339.544922\" xlink:href=\"#DejaVuSans-6f\"/>\n      <use x=\"400.726562\" xlink:href=\"#DejaVuSans-73\"/>\n      <use x=\"452.826172\" xlink:href=\"#DejaVuSans-69\"/>\n      <use x=\"480.609375\" xlink:href=\"#DejaVuSans-74\"/>\n      <use x=\"519.818359\" xlink:href=\"#DejaVuSans-69\"/>\n      <use x=\"547.601562\" xlink:href=\"#DejaVuSans-76\"/>\n      <use x=\"606.78125\" xlink:href=\"#DejaVuSans-65\"/>\n      <use x=\"668.304688\" xlink:href=\"#DejaVuSans-20\"/>\n      <use x=\"700.091797\" xlink:href=\"#DejaVuSans-52\"/>\n      <use x=\"767.324219\" xlink:href=\"#DejaVuSans-61\"/>\n      <use x=\"828.603516\" xlink:href=\"#DejaVuSans-74\"/>\n      <use x=\"867.8125\" xlink:href=\"#DejaVuSans-65\"/>\n     </g>\n    </g>\n   </g>\n   <g id=\"matplotlib.axis_2\">\n    <g id=\"ytick_1\">\n     <g id=\"line2d_7\">\n      <defs>\n       <path d=\"M 0 0 \nL -3.5 0 \n\" id=\"m085085f976\" style=\"stroke:#000000;stroke-width:0.8;\"/>\n      </defs>\n      <g>\n       <use style=\"stroke:#000000;stroke-width:0.8;\" x=\"43.78125\" xlink:href=\"#m085085f976\" y=\"239.758125\"/>\n      </g>\n     </g>\n     <g id=\"text_8\">\n      <!-- 0.0 -->\n      <g transform=\"translate(20.878125 243.557344)scale(0.1 -0.1)\">\n       <use xlink:href=\"#DejaVuSans-30\"/>\n       <use x=\"63.623047\" xlink:href=\"#DejaVuSans-2e\"/>\n       <use x=\"95.410156\" xlink:href=\"#DejaVuSans-30\"/>\n      </g>\n     </g>\n    </g>\n    <g id=\"ytick_2\">\n     <g id=\"line2d_8\">\n      <g>\n       <use style=\"stroke:#000000;stroke-width:0.8;\" x=\"43.78125\" xlink:href=\"#m085085f976\" y=\"198.340982\"/>\n      </g>\n     </g>\n     <g id=\"text_9\">\n      <!-- 0.2 -->\n      <g transform=\"translate(20.878125 202.140201)scale(0.1 -0.1)\">\n       <use xlink:href=\"#DejaVuSans-30\"/>\n       <use x=\"63.623047\" xlink:href=\"#DejaVuSans-2e\"/>\n       <use x=\"95.410156\" xlink:href=\"#DejaVuSans-32\"/>\n      </g>\n     </g>\n    </g>\n    <g id=\"ytick_3\">\n     <g id=\"line2d_9\">\n      <g>\n       <use style=\"stroke:#000000;stroke-width:0.8;\" x=\"43.78125\" xlink:href=\"#m085085f976\" y=\"156.923839\"/>\n      </g>\n     </g>\n     <g id=\"text_10\">\n      <!-- 0.4 -->\n      <g transform=\"translate(20.878125 160.723058)scale(0.1 -0.1)\">\n       <use xlink:href=\"#DejaVuSans-30\"/>\n       <use x=\"63.623047\" xlink:href=\"#DejaVuSans-2e\"/>\n       <use x=\"95.410156\" xlink:href=\"#DejaVuSans-34\"/>\n      </g>\n     </g>\n    </g>\n    <g id=\"ytick_4\">\n     <g id=\"line2d_10\">\n      <g>\n       <use style=\"stroke:#000000;stroke-width:0.8;\" x=\"43.78125\" xlink:href=\"#m085085f976\" y=\"115.506696\"/>\n      </g>\n     </g>\n     <g id=\"text_11\">\n      <!-- 0.6 -->\n      <g transform=\"translate(20.878125 119.305915)scale(0.1 -0.1)\">\n       <use xlink:href=\"#DejaVuSans-30\"/>\n       <use x=\"63.623047\" xlink:href=\"#DejaVuSans-2e\"/>\n       <use x=\"95.410156\" xlink:href=\"#DejaVuSans-36\"/>\n      </g>\n     </g>\n    </g>\n    <g id=\"ytick_5\">\n     <g id=\"line2d_11\">\n      <g>\n       <use style=\"stroke:#000000;stroke-width:0.8;\" x=\"43.78125\" xlink:href=\"#m085085f976\" y=\"74.089554\"/>\n      </g>\n     </g>\n     <g id=\"text_12\">\n      <!-- 0.8 -->\n      <g transform=\"translate(20.878125 77.888772)scale(0.1 -0.1)\">\n       <use xlink:href=\"#DejaVuSans-30\"/>\n       <use x=\"63.623047\" xlink:href=\"#DejaVuSans-2e\"/>\n       <use x=\"95.410156\" xlink:href=\"#DejaVuSans-38\"/>\n      </g>\n     </g>\n    </g>\n    <g id=\"ytick_6\">\n     <g id=\"line2d_12\">\n      <g>\n       <use style=\"stroke:#000000;stroke-width:0.8;\" x=\"43.78125\" xlink:href=\"#m085085f976\" y=\"32.672411\"/>\n      </g>\n     </g>\n     <g id=\"text_13\">\n      <!-- 1.0 -->\n      <g transform=\"translate(20.878125 36.471629)scale(0.1 -0.1)\">\n       <use xlink:href=\"#DejaVuSans-31\"/>\n       <use x=\"63.623047\" xlink:href=\"#DejaVuSans-2e\"/>\n       <use x=\"95.410156\" xlink:href=\"#DejaVuSans-30\"/>\n      </g>\n     </g>\n    </g>\n    <g id=\"text_14\">\n     <!-- True Positive Rate -->\n     <g transform=\"translate(14.798438 175.567812)rotate(-90)scale(0.1 -0.1)\">\n      <defs>\n       <path d=\"M -19 4666 \nL 3928 4666 \nL 3928 4134 \nL 2272 4134 \nL 2272 0 \nL 1638 0 \nL 1638 4134 \nL -19 4134 \nL -19 4666 \nz\n\" id=\"DejaVuSans-54\" transform=\"scale(0.015625)\"/>\n       <path d=\"M 2631 2963 \nQ 2534 3019 2420 3045 \nQ 2306 3072 2169 3072 \nQ 1681 3072 1420 2755 \nQ 1159 2438 1159 1844 \nL 1159 0 \nL 581 0 \nL 581 3500 \nL 1159 3500 \nL 1159 2956 \nQ 1341 3275 1631 3429 \nQ 1922 3584 2338 3584 \nQ 2397 3584 2469 3576 \nQ 2541 3569 2628 3553 \nL 2631 2963 \nz\n\" id=\"DejaVuSans-72\" transform=\"scale(0.015625)\"/>\n       <path d=\"M 544 1381 \nL 544 3500 \nL 1119 3500 \nL 1119 1403 \nQ 1119 906 1312 657 \nQ 1506 409 1894 409 \nQ 2359 409 2629 706 \nQ 2900 1003 2900 1516 \nL 2900 3500 \nL 3475 3500 \nL 3475 0 \nL 2900 0 \nL 2900 538 \nQ 2691 219 2414 64 \nQ 2138 -91 1772 -91 \nQ 1169 -91 856 284 \nQ 544 659 544 1381 \nz\nM 1991 3584 \nL 1991 3584 \nz\n\" id=\"DejaVuSans-75\" transform=\"scale(0.015625)\"/>\n      </defs>\n      <use xlink:href=\"#DejaVuSans-54\"/>\n      <use x=\"46.333984\" xlink:href=\"#DejaVuSans-72\"/>\n      <use x=\"87.447266\" xlink:href=\"#DejaVuSans-75\"/>\n      <use x=\"150.826172\" xlink:href=\"#DejaVuSans-65\"/>\n      <use x=\"212.349609\" xlink:href=\"#DejaVuSans-20\"/>\n      <use x=\"244.136719\" xlink:href=\"#DejaVuSans-50\"/>\n      <use x=\"300.814453\" xlink:href=\"#DejaVuSans-6f\"/>\n      <use x=\"361.996094\" xlink:href=\"#DejaVuSans-73\"/>\n      <use x=\"414.095703\" xlink:href=\"#DejaVuSans-69\"/>\n      <use x=\"441.878906\" xlink:href=\"#DejaVuSans-74\"/>\n      <use x=\"481.087891\" xlink:href=\"#DejaVuSans-69\"/>\n      <use x=\"508.871094\" xlink:href=\"#DejaVuSans-76\"/>\n      <use x=\"568.050781\" xlink:href=\"#DejaVuSans-65\"/>\n      <use x=\"629.574219\" xlink:href=\"#DejaVuSans-20\"/>\n      <use x=\"661.361328\" xlink:href=\"#DejaVuSans-52\"/>\n      <use x=\"728.59375\" xlink:href=\"#DejaVuSans-61\"/>\n      <use x=\"789.873047\" xlink:href=\"#DejaVuSans-74\"/>\n      <use x=\"829.082031\" xlink:href=\"#DejaVuSans-65\"/>\n     </g>\n    </g>\n   </g>\n   <g id=\"line2d_13\">\n    <path clip-path=\"url(#p18e99a6a69)\" d=\"M 43.78125 239.758125 \nL 43.78125 61.362411 \nL 44.126049 61.362411 \nL 44.126049 41.516696 \nL 44.470848 41.516696 \nL 44.470848 38.928125 \nL 45.160447 38.928125 \nL 45.160447 37.202411 \nL 46.194844 37.202411 \nL 46.194844 36.986696 \nL 46.884443 36.986696 \nL 46.884443 36.339554 \nL 48.608438 36.339554 \nL 48.608438 35.260982 \nL 48.953238 35.260982 \nL 48.953238 34.182411 \nL 49.298037 34.182411 \nL 49.298037 33.535268 \nL 62.055606 33.535268 \nL 62.055606 32.672411 \nL 378.58125 32.672411 \nL 378.58125 32.672411 \n\" style=\"fill:none;stroke:#ff8c00;stroke-linecap:square;stroke-width:2;\"/>\n   </g>\n   <g id=\"line2d_14\">\n    <path clip-path=\"url(#p18e99a6a69)\" d=\"M 43.78125 239.758125 \nL 378.58125 32.672411 \n\" style=\"fill:none;stroke:#000080;stroke-dasharray:7.4,3.2;stroke-dashoffset:0;stroke-width:2;\"/>\n   </g>\n   <g id=\"patch_3\">\n    <path d=\"M 43.78125 239.758125 \nL 43.78125 22.318125 \n\" style=\"fill:none;stroke:#000000;stroke-linecap:square;stroke-linejoin:miter;stroke-width:0.8;\"/>\n   </g>\n   <g id=\"patch_4\">\n    <path d=\"M 378.58125 239.758125 \nL 378.58125 22.318125 \n\" style=\"fill:none;stroke:#000000;stroke-linecap:square;stroke-linejoin:miter;stroke-width:0.8;\"/>\n   </g>\n   <g id=\"patch_5\">\n    <path d=\"M 43.78125 239.758125 \nL 378.58125 239.758125 \n\" style=\"fill:none;stroke:#000000;stroke-linecap:square;stroke-linejoin:miter;stroke-width:0.8;\"/>\n   </g>\n   <g id=\"patch_6\">\n    <path d=\"M 43.78125 22.318125 \nL 378.58125 22.318125 \n\" style=\"fill:none;stroke:#000000;stroke-linecap:square;stroke-linejoin:miter;stroke-width:0.8;\"/>\n   </g>\n   <g id=\"text_15\">\n    <!-- Receiver operating characteristic example -->\n    <g transform=\"translate(83.886563 16.318125)scale(0.12 -0.12)\">\n     <defs>\n      <path d=\"M 3122 3366 \nL 3122 2828 \nQ 2878 2963 2633 3030 \nQ 2388 3097 2138 3097 \nQ 1578 3097 1268 2742 \nQ 959 2388 959 1747 \nQ 959 1106 1268 751 \nQ 1578 397 2138 397 \nQ 2388 397 2633 464 \nQ 2878 531 3122 666 \nL 3122 134 \nQ 2881 22 2623 -34 \nQ 2366 -91 2075 -91 \nQ 1284 -91 818 406 \nQ 353 903 353 1747 \nQ 353 2603 823 3093 \nQ 1294 3584 2113 3584 \nQ 2378 3584 2631 3529 \nQ 2884 3475 3122 3366 \nz\n\" id=\"DejaVuSans-63\" transform=\"scale(0.015625)\"/>\n      <path d=\"M 1159 525 \nL 1159 -1331 \nL 581 -1331 \nL 581 3500 \nL 1159 3500 \nL 1159 2969 \nQ 1341 3281 1617 3432 \nQ 1894 3584 2278 3584 \nQ 2916 3584 3314 3078 \nQ 3713 2572 3713 1747 \nQ 3713 922 3314 415 \nQ 2916 -91 2278 -91 \nQ 1894 -91 1617 61 \nQ 1341 213 1159 525 \nz\nM 3116 1747 \nQ 3116 2381 2855 2742 \nQ 2594 3103 2138 3103 \nQ 1681 3103 1420 2742 \nQ 1159 2381 1159 1747 \nQ 1159 1113 1420 752 \nQ 1681 391 2138 391 \nQ 2594 391 2855 752 \nQ 3116 1113 3116 1747 \nz\n\" id=\"DejaVuSans-70\" transform=\"scale(0.015625)\"/>\n      <path d=\"M 3513 2113 \nL 3513 0 \nL 2938 0 \nL 2938 2094 \nQ 2938 2591 2744 2837 \nQ 2550 3084 2163 3084 \nQ 1697 3084 1428 2787 \nQ 1159 2491 1159 1978 \nL 1159 0 \nL 581 0 \nL 581 3500 \nL 1159 3500 \nL 1159 2956 \nQ 1366 3272 1645 3428 \nQ 1925 3584 2291 3584 \nQ 2894 3584 3203 3211 \nQ 3513 2838 3513 2113 \nz\n\" id=\"DejaVuSans-6e\" transform=\"scale(0.015625)\"/>\n      <path d=\"M 2906 1791 \nQ 2906 2416 2648 2759 \nQ 2391 3103 1925 3103 \nQ 1463 3103 1205 2759 \nQ 947 2416 947 1791 \nQ 947 1169 1205 825 \nQ 1463 481 1925 481 \nQ 2391 481 2648 825 \nQ 2906 1169 2906 1791 \nz\nM 3481 434 \nQ 3481 -459 3084 -895 \nQ 2688 -1331 1869 -1331 \nQ 1566 -1331 1297 -1286 \nQ 1028 -1241 775 -1147 \nL 775 -588 \nQ 1028 -725 1275 -790 \nQ 1522 -856 1778 -856 \nQ 2344 -856 2625 -561 \nQ 2906 -266 2906 331 \nL 2906 616 \nQ 2728 306 2450 153 \nQ 2172 0 1784 0 \nQ 1141 0 747 490 \nQ 353 981 353 1791 \nQ 353 2603 747 3093 \nQ 1141 3584 1784 3584 \nQ 2172 3584 2450 3431 \nQ 2728 3278 2906 2969 \nL 2906 3500 \nL 3481 3500 \nL 3481 434 \nz\n\" id=\"DejaVuSans-67\" transform=\"scale(0.015625)\"/>\n      <path d=\"M 3513 2113 \nL 3513 0 \nL 2938 0 \nL 2938 2094 \nQ 2938 2591 2744 2837 \nQ 2550 3084 2163 3084 \nQ 1697 3084 1428 2787 \nQ 1159 2491 1159 1978 \nL 1159 0 \nL 581 0 \nL 581 4863 \nL 1159 4863 \nL 1159 2956 \nQ 1366 3272 1645 3428 \nQ 1925 3584 2291 3584 \nQ 2894 3584 3203 3211 \nQ 3513 2838 3513 2113 \nz\n\" id=\"DejaVuSans-68\" transform=\"scale(0.015625)\"/>\n      <path d=\"M 3513 3500 \nL 2247 1797 \nL 3578 0 \nL 2900 0 \nL 1881 1375 \nL 863 0 \nL 184 0 \nL 1544 1831 \nL 300 3500 \nL 978 3500 \nL 1906 2253 \nL 2834 3500 \nL 3513 3500 \nz\n\" id=\"DejaVuSans-78\" transform=\"scale(0.015625)\"/>\n      <path d=\"M 3328 2828 \nQ 3544 3216 3844 3400 \nQ 4144 3584 4550 3584 \nQ 5097 3584 5394 3201 \nQ 5691 2819 5691 2113 \nL 5691 0 \nL 5113 0 \nL 5113 2094 \nQ 5113 2597 4934 2840 \nQ 4756 3084 4391 3084 \nQ 3944 3084 3684 2787 \nQ 3425 2491 3425 1978 \nL 3425 0 \nL 2847 0 \nL 2847 2094 \nQ 2847 2600 2669 2842 \nQ 2491 3084 2119 3084 \nQ 1678 3084 1418 2786 \nQ 1159 2488 1159 1978 \nL 1159 0 \nL 581 0 \nL 581 3500 \nL 1159 3500 \nL 1159 2956 \nQ 1356 3278 1631 3431 \nQ 1906 3584 2284 3584 \nQ 2666 3584 2933 3390 \nQ 3200 3197 3328 2828 \nz\n\" id=\"DejaVuSans-6d\" transform=\"scale(0.015625)\"/>\n     </defs>\n     <use xlink:href=\"#DejaVuSans-52\"/>\n     <use x=\"64.982422\" xlink:href=\"#DejaVuSans-65\"/>\n     <use x=\"126.505859\" xlink:href=\"#DejaVuSans-63\"/>\n     <use x=\"181.486328\" xlink:href=\"#DejaVuSans-65\"/>\n     <use x=\"243.009766\" xlink:href=\"#DejaVuSans-69\"/>\n     <use x=\"270.792969\" xlink:href=\"#DejaVuSans-76\"/>\n     <use x=\"329.972656\" xlink:href=\"#DejaVuSans-65\"/>\n     <use x=\"391.496094\" xlink:href=\"#DejaVuSans-72\"/>\n     <use x=\"432.609375\" xlink:href=\"#DejaVuSans-20\"/>\n     <use x=\"464.396484\" xlink:href=\"#DejaVuSans-6f\"/>\n     <use x=\"525.578125\" xlink:href=\"#DejaVuSans-70\"/>\n     <use x=\"589.054688\" xlink:href=\"#DejaVuSans-65\"/>\n     <use x=\"650.578125\" xlink:href=\"#DejaVuSans-72\"/>\n     <use x=\"691.691406\" xlink:href=\"#DejaVuSans-61\"/>\n     <use x=\"752.970703\" xlink:href=\"#DejaVuSans-74\"/>\n     <use x=\"792.179688\" xlink:href=\"#DejaVuSans-69\"/>\n     <use x=\"819.962891\" xlink:href=\"#DejaVuSans-6e\"/>\n     <use x=\"883.341797\" xlink:href=\"#DejaVuSans-67\"/>\n     <use x=\"946.818359\" xlink:href=\"#DejaVuSans-20\"/>\n     <use x=\"978.605469\" xlink:href=\"#DejaVuSans-63\"/>\n     <use x=\"1033.585938\" xlink:href=\"#DejaVuSans-68\"/>\n     <use x=\"1096.964844\" xlink:href=\"#DejaVuSans-61\"/>\n     <use x=\"1158.244141\" xlink:href=\"#DejaVuSans-72\"/>\n     <use x=\"1199.357422\" xlink:href=\"#DejaVuSans-61\"/>\n     <use x=\"1260.636719\" xlink:href=\"#DejaVuSans-63\"/>\n     <use x=\"1315.617188\" xlink:href=\"#DejaVuSans-74\"/>\n     <use x=\"1354.826172\" xlink:href=\"#DejaVuSans-65\"/>\n     <use x=\"1416.349609\" xlink:href=\"#DejaVuSans-72\"/>\n     <use x=\"1457.462891\" xlink:href=\"#DejaVuSans-69\"/>\n     <use x=\"1485.246094\" xlink:href=\"#DejaVuSans-73\"/>\n     <use x=\"1537.345703\" xlink:href=\"#DejaVuSans-74\"/>\n     <use x=\"1576.554688\" xlink:href=\"#DejaVuSans-69\"/>\n     <use x=\"1604.337891\" xlink:href=\"#DejaVuSans-63\"/>\n     <use x=\"1659.318359\" xlink:href=\"#DejaVuSans-20\"/>\n     <use x=\"1691.105469\" xlink:href=\"#DejaVuSans-65\"/>\n     <use x=\"1750.878906\" xlink:href=\"#DejaVuSans-78\"/>\n     <use x=\"1810.058594\" xlink:href=\"#DejaVuSans-61\"/>\n     <use x=\"1871.337891\" xlink:href=\"#DejaVuSans-6d\"/>\n     <use x=\"1968.75\" xlink:href=\"#DejaVuSans-70\"/>\n     <use x=\"2032.226562\" xlink:href=\"#DejaVuSans-6c\"/>\n     <use x=\"2060.009766\" xlink:href=\"#DejaVuSans-65\"/>\n    </g>\n   </g>\n   <g id=\"legend_1\">\n    <g id=\"patch_7\">\n     <path d=\"M 216.303125 234.758125 \nL 371.58125 234.758125 \nQ 373.58125 234.758125 373.58125 232.758125 \nL 373.58125 219.08 \nQ 373.58125 217.08 371.58125 217.08 \nL 216.303125 217.08 \nQ 214.303125 217.08 214.303125 219.08 \nL 214.303125 232.758125 \nQ 214.303125 234.758125 216.303125 234.758125 \nz\n\" style=\"fill:#ffffff;opacity:0.8;stroke:#cccccc;stroke-linejoin:miter;\"/>\n    </g>\n    <g id=\"line2d_15\">\n     <path d=\"M 218.303125 225.178437 \nL 238.303125 225.178437 \n\" style=\"fill:none;stroke:#ff8c00;stroke-linecap:square;stroke-width:2;\"/>\n    </g>\n    <g id=\"line2d_16\"/>\n    <g id=\"text_16\">\n     <!-- ROC curve (area = 1.00) -->\n     <g transform=\"translate(246.303125 228.678437)scale(0.1 -0.1)\">\n      <defs>\n       <path d=\"M 2522 4238 \nQ 1834 4238 1429 3725 \nQ 1025 3213 1025 2328 \nQ 1025 1447 1429 934 \nQ 1834 422 2522 422 \nQ 3209 422 3611 934 \nQ 4013 1447 4013 2328 \nQ 4013 3213 3611 3725 \nQ 3209 4238 2522 4238 \nz\nM 2522 4750 \nQ 3503 4750 4090 4092 \nQ 4678 3434 4678 2328 \nQ 4678 1225 4090 567 \nQ 3503 -91 2522 -91 \nQ 1538 -91 948 565 \nQ 359 1222 359 2328 \nQ 359 3434 948 4092 \nQ 1538 4750 2522 4750 \nz\n\" id=\"DejaVuSans-4f\" transform=\"scale(0.015625)\"/>\n       <path d=\"M 4122 4306 \nL 4122 3641 \nQ 3803 3938 3442 4084 \nQ 3081 4231 2675 4231 \nQ 1875 4231 1450 3742 \nQ 1025 3253 1025 2328 \nQ 1025 1406 1450 917 \nQ 1875 428 2675 428 \nQ 3081 428 3442 575 \nQ 3803 722 4122 1019 \nL 4122 359 \nQ 3791 134 3420 21 \nQ 3050 -91 2638 -91 \nQ 1578 -91 968 557 \nQ 359 1206 359 2328 \nQ 359 3453 968 4101 \nQ 1578 4750 2638 4750 \nQ 3056 4750 3426 4639 \nQ 3797 4528 4122 4306 \nz\n\" id=\"DejaVuSans-43\" transform=\"scale(0.015625)\"/>\n       <path d=\"M 1984 4856 \nQ 1566 4138 1362 3434 \nQ 1159 2731 1159 2009 \nQ 1159 1288 1364 580 \nQ 1569 -128 1984 -844 \nL 1484 -844 \nQ 1016 -109 783 600 \nQ 550 1309 550 2009 \nQ 550 2706 781 3412 \nQ 1013 4119 1484 4856 \nL 1984 4856 \nz\n\" id=\"DejaVuSans-28\" transform=\"scale(0.015625)\"/>\n       <path d=\"M 678 2906 \nL 4684 2906 \nL 4684 2381 \nL 678 2381 \nL 678 2906 \nz\nM 678 1631 \nL 4684 1631 \nL 4684 1100 \nL 678 1100 \nL 678 1631 \nz\n\" id=\"DejaVuSans-3d\" transform=\"scale(0.015625)\"/>\n       <path d=\"M 513 4856 \nL 1013 4856 \nQ 1481 4119 1714 3412 \nQ 1947 2706 1947 2009 \nQ 1947 1309 1714 600 \nQ 1481 -109 1013 -844 \nL 513 -844 \nQ 928 -128 1133 580 \nQ 1338 1288 1338 2009 \nQ 1338 2731 1133 3434 \nQ 928 4138 513 4856 \nz\n\" id=\"DejaVuSans-29\" transform=\"scale(0.015625)\"/>\n      </defs>\n      <use xlink:href=\"#DejaVuSans-52\"/>\n      <use x=\"69.482422\" xlink:href=\"#DejaVuSans-4f\"/>\n      <use x=\"148.193359\" xlink:href=\"#DejaVuSans-43\"/>\n      <use x=\"218.017578\" xlink:href=\"#DejaVuSans-20\"/>\n      <use x=\"249.804688\" xlink:href=\"#DejaVuSans-63\"/>\n      <use x=\"304.785156\" xlink:href=\"#DejaVuSans-75\"/>\n      <use x=\"368.164062\" xlink:href=\"#DejaVuSans-72\"/>\n      <use x=\"409.277344\" xlink:href=\"#DejaVuSans-76\"/>\n      <use x=\"468.457031\" xlink:href=\"#DejaVuSans-65\"/>\n      <use x=\"529.980469\" xlink:href=\"#DejaVuSans-20\"/>\n      <use x=\"561.767578\" xlink:href=\"#DejaVuSans-28\"/>\n      <use x=\"600.78125\" xlink:href=\"#DejaVuSans-61\"/>\n      <use x=\"662.060547\" xlink:href=\"#DejaVuSans-72\"/>\n      <use x=\"700.923828\" xlink:href=\"#DejaVuSans-65\"/>\n      <use x=\"762.447266\" xlink:href=\"#DejaVuSans-61\"/>\n      <use x=\"823.726562\" xlink:href=\"#DejaVuSans-20\"/>\n      <use x=\"855.513672\" xlink:href=\"#DejaVuSans-3d\"/>\n      <use x=\"939.302734\" xlink:href=\"#DejaVuSans-20\"/>\n      <use x=\"971.089844\" xlink:href=\"#DejaVuSans-31\"/>\n      <use x=\"1034.712891\" xlink:href=\"#DejaVuSans-2e\"/>\n      <use x=\"1066.5\" xlink:href=\"#DejaVuSans-30\"/>\n      <use x=\"1130.123047\" xlink:href=\"#DejaVuSans-30\"/>\n      <use x=\"1193.746094\" xlink:href=\"#DejaVuSans-29\"/>\n     </g>\n    </g>\n   </g>\n  </g>\n </g>\n <defs>\n  <clipPath id=\"p18e99a6a69\">\n   <rect height=\"217.44\" width=\"334.8\" x=\"43.78125\" y=\"22.318125\"/>\n  </clipPath>\n </defs>\n</svg>\n",
      "image/png": "[encoded data removed]"
     },
     "metadata": {
      "needs_background": "light"
     }
    }
   ],
   "source": [
    "plt.figure()\n",
    "lw = 2\n",
    "plt.plot(fpr[1], tpr[1], color='darkorange',\n",
    "         lw=lw, label='ROC curve (area = %0.2f)' % roc_auc[1])\n",
    "plt.plot([0, 1], [0, 1], color='navy', lw=lw, linestyle='--')\n",
    "plt.xlim([0.0, 1.0])\n",
    "plt.ylim([0.0, 1.05])\n",
    "plt.xlabel('False Positive Rate')\n",
    "plt.ylabel('True Positive Rate')\n",
    "plt.title('Receiver operating characteristic example')\n",
    "plt.legend(loc=\"lower right\")\n",
    "plt.show()"
   ]
  },
  {
   "cell_type": "markdown",
   "metadata": {},
   "source": [
    "this kind of accuracy is very very very very suspicious but i have no idea what's causing it, i would gladly get some insight from you guys at owlint. it's only friday and i'll bang my head against the wall until i get an explanation."
   ]
  },
  {
   "cell_type": "markdown",
   "metadata": {},
   "source": [
    "Anyhow, this graph shows us that we have very little false positive rate, and that it remains constant no matter the thresholds, the default one being 50%"
   ]
  },
  {
   "cell_type": "code",
   "execution_count": 50,
   "metadata": {},
   "outputs": [
    {
     "output_type": "execute_result",
     "data": {
      "text/plain": [
       "0    4827\n",
       "1    4827\n",
       "Name: CLASS, dtype: int64"
      ]
     },
     "metadata": {},
     "execution_count": 50
    }
   ],
   "source": [
    "df['CLASS'].value_counts() "
   ]
  },
  {
   "cell_type": "markdown",
   "metadata": {},
   "source": [
    "Kinda late to check on dataset balance but...it's perfectly balanced...as all things should be"
   ]
  },
  {
   "cell_type": "markdown",
   "metadata": {},
   "source": [
    "This makes ROC & AUC a bit more legitimate as they tend to underperform when datasets are unbalanced.\n",
    "\n",
    "i'll now try to factor all of this in a .py file and turn all of that into a nice API, see you on the other side !\n",
    "\n",
    "if i have enough time i'll come back to the model and try to think that it wasn't this good and try to perfect it.\n"
   ]
  },
  {
   "cell_type": "code",
   "execution_count": 10,
   "metadata": {},
   "outputs": [],
   "source": [
    "import pickle\n",
    "pickle.dump(classifier, open('./models/final_prediction.pickle', 'wb'))\n",
    "pickle.dump(vectorizer, open('./models/final_prediction_vectorizer.pickle', 'wb')) \n",
    "# my baby is ready to leave the household"
   ]
  },
  {
   "cell_type": "code",
   "execution_count": null,
   "metadata": {},
   "outputs": [],
   "source": []
  }
 ],
 "metadata": {
  "kernelspec": {
   "name": "python3",
   "display_name": "Python 3.8.5 64-bit",
   "metadata": {
    "interpreter": {
     "hash": "31f2aee4e71d21fbe5cf8b01ff0e069b9275f58929596ceb00d14d90e3e16cd6"
    }
   }
  },
  "language_info": {
   "codemirror_mode": {
    "name": "ipython",
    "version": 3
   },
   "file_extension": ".py",
   "mimetype": "text/x-python",
   "name": "python",
   "nbconvert_exporter": "python",
   "pygments_lexer": "ipython3",
   "version": "3.8.5-final"
  }
 },
 "nbformat": 4,
 "nbformat_minor": 4
}